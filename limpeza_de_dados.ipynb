{
 "cells": [
  {
   "cell_type": "code",
   "execution_count": 1,
   "id": "0fbefba3-06e2-4253-b1be-0303db0ab7bd",
   "metadata": {},
   "outputs": [],
   "source": [
    "import pandas as pd\n",
    "import numpy as np"
   ]
  },
  {
   "cell_type": "code",
   "execution_count": 2,
   "id": "db06112c-d0ac-4e28-8675-bec1c0bc7ddf",
   "metadata": {},
   "outputs": [],
   "source": [
    "courier_actions = pd.read_csv(\"courier_actions.csv\")"
   ]
  },
  {
   "cell_type": "code",
   "execution_count": 3,
   "id": "6cad4c57-4773-4f48-aae7-77ea573e6ef0",
   "metadata": {},
   "outputs": [
    {
     "data": {
      "text/html": [
       "<div>\n",
       "<style scoped>\n",
       "    .dataframe tbody tr th:only-of-type {\n",
       "        vertical-align: middle;\n",
       "    }\n",
       "\n",
       "    .dataframe tbody tr th {\n",
       "        vertical-align: top;\n",
       "    }\n",
       "\n",
       "    .dataframe thead th {\n",
       "        text-align: right;\n",
       "    }\n",
       "</style>\n",
       "<table border=\"1\" class=\"dataframe\">\n",
       "  <thead>\n",
       "    <tr style=\"text-align: right;\">\n",
       "      <th></th>\n",
       "      <th>courier_id</th>\n",
       "      <th>order_id</th>\n",
       "      <th>action</th>\n",
       "      <th>time</th>\n",
       "    </tr>\n",
       "  </thead>\n",
       "  <tbody>\n",
       "    <tr>\n",
       "      <th>0</th>\n",
       "      <td>12</td>\n",
       "      <td>1</td>\n",
       "      <td>accept_order</td>\n",
       "      <td>24/08/22 01:52</td>\n",
       "    </tr>\n",
       "    <tr>\n",
       "      <th>1</th>\n",
       "      <td>12</td>\n",
       "      <td>1</td>\n",
       "      <td>deliver_order</td>\n",
       "      <td>24/08/22 02:15</td>\n",
       "    </tr>\n",
       "    <tr>\n",
       "      <th>2</th>\n",
       "      <td>156</td>\n",
       "      <td>2</td>\n",
       "      <td>accept_order</td>\n",
       "      <td>24/08/22 06:37</td>\n",
       "    </tr>\n",
       "    <tr>\n",
       "      <th>3</th>\n",
       "      <td>156</td>\n",
       "      <td>2</td>\n",
       "      <td>deliver_order</td>\n",
       "      <td>24/08/22 06:56</td>\n",
       "    </tr>\n",
       "    <tr>\n",
       "      <th>4</th>\n",
       "      <td>49</td>\n",
       "      <td>3</td>\n",
       "      <td>accept_order</td>\n",
       "      <td>24/08/22 07:35</td>\n",
       "    </tr>\n",
       "  </tbody>\n",
       "</table>\n",
       "</div>"
      ],
      "text/plain": [
       "   courier_id  order_id         action            time\n",
       "0          12         1   accept_order  24/08/22 01:52\n",
       "1          12         1  deliver_order  24/08/22 02:15\n",
       "2         156         2   accept_order  24/08/22 06:37\n",
       "3         156         2  deliver_order  24/08/22 06:56\n",
       "4          49         3   accept_order  24/08/22 07:35"
      ]
     },
     "execution_count": 3,
     "metadata": {},
     "output_type": "execute_result"
    }
   ],
   "source": [
    "courier_actions.head()"
   ]
  },
  {
   "cell_type": "code",
   "execution_count": 4,
   "id": "77b513c4-ddbc-40e9-96cc-402ed98738c6",
   "metadata": {},
   "outputs": [
    {
     "name": "stdout",
     "output_type": "stream",
     "text": [
      "<class 'pandas.core.frame.DataFrame'>\n",
      "RangeIndex: 9998 entries, 0 to 9997\n",
      "Data columns (total 4 columns):\n",
      " #   Column      Non-Null Count  Dtype \n",
      "---  ------      --------------  ----- \n",
      " 0   courier_id  9998 non-null   int64 \n",
      " 1   order_id    9998 non-null   int64 \n",
      " 2   action      9998 non-null   object\n",
      " 3   time        9998 non-null   object\n",
      "dtypes: int64(2), object(2)\n",
      "memory usage: 312.6+ KB\n"
     ]
    }
   ],
   "source": [
    "courier_actions.info()"
   ]
  },
  {
   "cell_type": "code",
   "execution_count": 5,
   "id": "5d9c5534-366b-4e55-a957-92f471c8529a",
   "metadata": {},
   "outputs": [
    {
     "data": {
      "text/html": [
       "<div>\n",
       "<style scoped>\n",
       "    .dataframe tbody tr th:only-of-type {\n",
       "        vertical-align: middle;\n",
       "    }\n",
       "\n",
       "    .dataframe tbody tr th {\n",
       "        vertical-align: top;\n",
       "    }\n",
       "\n",
       "    .dataframe thead th {\n",
       "        text-align: right;\n",
       "    }\n",
       "</style>\n",
       "<table border=\"1\" class=\"dataframe\">\n",
       "  <thead>\n",
       "    <tr style=\"text-align: right;\">\n",
       "      <th></th>\n",
       "      <th>courier_id</th>\n",
       "      <th>order_id</th>\n",
       "      <th>accept_time</th>\n",
       "      <th>deliver_time</th>\n",
       "      <th>waiting_time</th>\n",
       "      <th>waiting_time_minutes</th>\n",
       "    </tr>\n",
       "  </thead>\n",
       "  <tbody>\n",
       "    <tr>\n",
       "      <th>0</th>\n",
       "      <td>12</td>\n",
       "      <td>1</td>\n",
       "      <td>2022-08-24 01:52:00</td>\n",
       "      <td>2022-08-24 02:15:00</td>\n",
       "      <td>0 days 00:23:00</td>\n",
       "      <td>23</td>\n",
       "    </tr>\n",
       "    <tr>\n",
       "      <th>1</th>\n",
       "      <td>156</td>\n",
       "      <td>2</td>\n",
       "      <td>2022-08-24 06:37:00</td>\n",
       "      <td>2022-08-24 06:56:00</td>\n",
       "      <td>0 days 00:19:00</td>\n",
       "      <td>19</td>\n",
       "    </tr>\n",
       "    <tr>\n",
       "      <th>2</th>\n",
       "      <td>49</td>\n",
       "      <td>3</td>\n",
       "      <td>2022-08-24 07:35:00</td>\n",
       "      <td>2022-08-24 07:54:00</td>\n",
       "      <td>0 days 00:19:00</td>\n",
       "      <td>19</td>\n",
       "    </tr>\n",
       "    <tr>\n",
       "      <th>3</th>\n",
       "      <td>134</td>\n",
       "      <td>4</td>\n",
       "      <td>2022-08-24 10:39:00</td>\n",
       "      <td>2022-08-24 10:58:00</td>\n",
       "      <td>0 days 00:19:00</td>\n",
       "      <td>19</td>\n",
       "    </tr>\n",
       "    <tr>\n",
       "      <th>4</th>\n",
       "      <td>106</td>\n",
       "      <td>5</td>\n",
       "      <td>2022-08-24 12:34:00</td>\n",
       "      <td>2022-08-24 12:59:00</td>\n",
       "      <td>0 days 00:25:00</td>\n",
       "      <td>25</td>\n",
       "    </tr>\n",
       "  </tbody>\n",
       "</table>\n",
       "</div>"
      ],
      "text/plain": [
       "   courier_id  order_id         accept_time        deliver_time  \\\n",
       "0          12         1 2022-08-24 01:52:00 2022-08-24 02:15:00   \n",
       "1         156         2 2022-08-24 06:37:00 2022-08-24 06:56:00   \n",
       "2          49         3 2022-08-24 07:35:00 2022-08-24 07:54:00   \n",
       "3         134         4 2022-08-24 10:39:00 2022-08-24 10:58:00   \n",
       "4         106         5 2022-08-24 12:34:00 2022-08-24 12:59:00   \n",
       "\n",
       "     waiting_time  waiting_time_minutes  \n",
       "0 0 days 00:23:00                    23  \n",
       "1 0 days 00:19:00                    19  \n",
       "2 0 days 00:19:00                    19  \n",
       "3 0 days 00:19:00                    19  \n",
       "4 0 days 00:25:00                    25  "
      ]
     },
     "execution_count": 5,
     "metadata": {},
     "output_type": "execute_result"
    }
   ],
   "source": [
    "# Alteração na tabela para combinar os tempos de aceitar e entregar para cada pedido\n",
    "courier_actions = courier_actions.pivot(index=['courier_id', 'order_id'], columns='action', values='time').reset_index()\n",
    "\n",
    "# Renomear as colunas\n",
    "courier_actions.columns = ['courier_id', 'order_id', 'accept_time', 'deliver_time']\n",
    "\n",
    "# Ordernar pelo id do pedido\n",
    "courier_actions = courier_actions.sort_values(by='order_id').reset_index()\n",
    "\n",
    "# Remover a antiga coluna de index\n",
    "del courier_actions['index']\n",
    "\n",
    "# Remover valores NaN e infinitos (inf)\n",
    "courier_actions = courier_actions.replace([np.inf, -np.inf], np.nan).dropna()\n",
    "\n",
    "# Converter as colunas em objetos de data e tempo\n",
    "courier_actions['accept_time'] = pd.to_datetime(courier_actions['accept_time'], format='%d/%m/%y %H:%M')\n",
    "courier_actions['deliver_time'] = pd.to_datetime(courier_actions['deliver_time'], format='%d/%m/%y %H:%M')\n",
    "\n",
    "# Calcular a diferença de tempo entre accept_time e deliver_time\n",
    "courier_actions['waiting_time'] = courier_actions['deliver_time'] - courier_actions['accept_time']\n",
    "\n",
    "# Converter a diferença de tempo em minutos (número inteiro)\n",
    "courier_actions['waiting_time_minutes'] = (courier_actions['waiting_time'].dt.total_seconds() / 60).astype(int)\n",
    "\n",
    "# Exibir o novo DataFrame com as alterações\n",
    "courier_actions.head()"
   ]
  },
  {
   "cell_type": "code",
   "execution_count": 6,
   "id": "7106a28e-a6fa-4347-aa42-8b00b50b2cd3",
   "metadata": {},
   "outputs": [
    {
     "name": "stdout",
     "output_type": "stream",
     "text": [
      "<class 'pandas.core.frame.DataFrame'>\n",
      "Int64Index: 4876 entries, 0 to 5121\n",
      "Data columns (total 6 columns):\n",
      " #   Column                Non-Null Count  Dtype          \n",
      "---  ------                --------------  -----          \n",
      " 0   courier_id            4876 non-null   int64          \n",
      " 1   order_id              4876 non-null   int64          \n",
      " 2   accept_time           4876 non-null   datetime64[ns] \n",
      " 3   deliver_time          4876 non-null   datetime64[ns] \n",
      " 4   waiting_time          4876 non-null   timedelta64[ns]\n",
      " 5   waiting_time_minutes  4876 non-null   int32          \n",
      "dtypes: datetime64[ns](2), int32(1), int64(2), timedelta64[ns](1)\n",
      "memory usage: 247.6 KB\n"
     ]
    }
   ],
   "source": [
    "courier_actions.info()"
   ]
  },
  {
   "cell_type": "code",
   "execution_count": 7,
   "id": "cd9134fd-af0a-4d96-8d36-a809be80476e",
   "metadata": {},
   "outputs": [
    {
     "data": {
      "text/html": [
       "<div>\n",
       "<style scoped>\n",
       "    .dataframe tbody tr th:only-of-type {\n",
       "        vertical-align: middle;\n",
       "    }\n",
       "\n",
       "    .dataframe tbody tr th {\n",
       "        vertical-align: top;\n",
       "    }\n",
       "\n",
       "    .dataframe thead th {\n",
       "        text-align: right;\n",
       "    }\n",
       "</style>\n",
       "<table border=\"1\" class=\"dataframe\">\n",
       "  <thead>\n",
       "    <tr style=\"text-align: right;\">\n",
       "      <th></th>\n",
       "      <th>courier_id</th>\n",
       "      <th>order_id</th>\n",
       "      <th>waiting_time</th>\n",
       "      <th>waiting_time_minutes</th>\n",
       "    </tr>\n",
       "  </thead>\n",
       "  <tbody>\n",
       "    <tr>\n",
       "      <th>count</th>\n",
       "      <td>4876.000000</td>\n",
       "      <td>4876.000000</td>\n",
       "      <td>4876</td>\n",
       "      <td>4876.000000</td>\n",
       "    </tr>\n",
       "    <tr>\n",
       "      <th>mean</th>\n",
       "      <td>316.656071</td>\n",
       "      <td>2567.144176</td>\n",
       "      <td>0 days 00:19:53.601312551</td>\n",
       "      <td>19.893355</td>\n",
       "    </tr>\n",
       "    <tr>\n",
       "      <th>std</th>\n",
       "      <td>210.075954</td>\n",
       "      <td>1482.820508</td>\n",
       "      <td>0 days 00:03:01.896764720</td>\n",
       "      <td>3.031613</td>\n",
       "    </tr>\n",
       "    <tr>\n",
       "      <th>min</th>\n",
       "      <td>1.000000</td>\n",
       "      <td>1.000000</td>\n",
       "      <td>0 days 00:08:00</td>\n",
       "      <td>8.000000</td>\n",
       "    </tr>\n",
       "    <tr>\n",
       "      <th>25%</th>\n",
       "      <td>139.000000</td>\n",
       "      <td>1277.750000</td>\n",
       "      <td>0 days 00:18:00</td>\n",
       "      <td>18.000000</td>\n",
       "    </tr>\n",
       "    <tr>\n",
       "      <th>50%</th>\n",
       "      <td>293.000000</td>\n",
       "      <td>2570.500000</td>\n",
       "      <td>0 days 00:20:00</td>\n",
       "      <td>20.000000</td>\n",
       "    </tr>\n",
       "    <tr>\n",
       "      <th>75%</th>\n",
       "      <td>471.000000</td>\n",
       "      <td>3856.250000</td>\n",
       "      <td>0 days 00:22:00</td>\n",
       "      <td>22.000000</td>\n",
       "    </tr>\n",
       "    <tr>\n",
       "      <th>max</th>\n",
       "      <td>1000.000000</td>\n",
       "      <td>5122.000000</td>\n",
       "      <td>0 days 00:31:00</td>\n",
       "      <td>31.000000</td>\n",
       "    </tr>\n",
       "  </tbody>\n",
       "</table>\n",
       "</div>"
      ],
      "text/plain": [
       "        courier_id     order_id               waiting_time  \\\n",
       "count  4876.000000  4876.000000                       4876   \n",
       "mean    316.656071  2567.144176  0 days 00:19:53.601312551   \n",
       "std     210.075954  1482.820508  0 days 00:03:01.896764720   \n",
       "min       1.000000     1.000000            0 days 00:08:00   \n",
       "25%     139.000000  1277.750000            0 days 00:18:00   \n",
       "50%     293.000000  2570.500000            0 days 00:20:00   \n",
       "75%     471.000000  3856.250000            0 days 00:22:00   \n",
       "max    1000.000000  5122.000000            0 days 00:31:00   \n",
       "\n",
       "       waiting_time_minutes  \n",
       "count           4876.000000  \n",
       "mean              19.893355  \n",
       "std                3.031613  \n",
       "min                8.000000  \n",
       "25%               18.000000  \n",
       "50%               20.000000  \n",
       "75%               22.000000  \n",
       "max               31.000000  "
      ]
     },
     "execution_count": 7,
     "metadata": {},
     "output_type": "execute_result"
    }
   ],
   "source": [
    "courier_actions.describe()"
   ]
  },
  {
   "cell_type": "code",
   "execution_count": 8,
   "id": "fa44d21f-f3da-4158-b24b-e198e4abfab6",
   "metadata": {},
   "outputs": [],
   "source": [
    "courier_actions.to_csv(\"courier_actions_new.csv\", index=False)"
   ]
  },
  {
   "cell_type": "code",
   "execution_count": 9,
   "id": "ddf4665f-04bc-4ef6-8701-b4361701c23b",
   "metadata": {},
   "outputs": [
    {
     "data": {
      "text/html": [
       "<div>\n",
       "<style scoped>\n",
       "    .dataframe tbody tr th:only-of-type {\n",
       "        vertical-align: middle;\n",
       "    }\n",
       "\n",
       "    .dataframe tbody tr th {\n",
       "        vertical-align: top;\n",
       "    }\n",
       "\n",
       "    .dataframe thead th {\n",
       "        text-align: right;\n",
       "    }\n",
       "</style>\n",
       "<table border=\"1\" class=\"dataframe\">\n",
       "  <thead>\n",
       "    <tr style=\"text-align: right;\">\n",
       "      <th></th>\n",
       "      <th>courier_id</th>\n",
       "      <th>order_id</th>\n",
       "      <th>deliver_time</th>\n",
       "      <th>waiting_time</th>\n",
       "      <th>waiting_time_minutes</th>\n",
       "    </tr>\n",
       "    <tr>\n",
       "      <th>accept_time</th>\n",
       "      <th></th>\n",
       "      <th></th>\n",
       "      <th></th>\n",
       "      <th></th>\n",
       "      <th></th>\n",
       "    </tr>\n",
       "  </thead>\n",
       "  <tbody>\n",
       "    <tr>\n",
       "      <th>2022-08-31</th>\n",
       "      <td>4876</td>\n",
       "      <td>4876</td>\n",
       "      <td>4876</td>\n",
       "      <td>4876</td>\n",
       "      <td>4876</td>\n",
       "    </tr>\n",
       "  </tbody>\n",
       "</table>\n",
       "</div>"
      ],
      "text/plain": [
       "             courier_id  order_id  deliver_time  waiting_time  \\\n",
       "accept_time                                                     \n",
       "2022-08-31         4876      4876          4876          4876   \n",
       "\n",
       "             waiting_time_minutes  \n",
       "accept_time                        \n",
       "2022-08-31                   4876  "
      ]
     },
     "execution_count": 9,
     "metadata": {},
     "output_type": "execute_result"
    }
   ],
   "source": [
    "# Convertendo a coluna 'accept_time' para o tipo datetime\n",
    "courier_actions['accept_time'] = pd.to_datetime(courier_actions['accept_time'])\n",
    "\n",
    "# Definindo a coluna 'accept_time' como o índice do DataFrame\n",
    "courier_actions.set_index('accept_time', inplace=True)\n",
    "\n",
    "# Calculando a quantidade de pedidos por semana\n",
    "pedidos_por_mes = courier_actions.resample('M').count()\n",
    "\n",
    "pedidos_por_mes"
   ]
  },
  {
   "cell_type": "code",
   "execution_count": 10,
   "id": "0f432a8d-3cdf-4da3-9aa3-bf4d58cb40b2",
   "metadata": {},
   "outputs": [
    {
     "data": {
      "text/plain": [
       "2"
      ]
     },
     "execution_count": 10,
     "metadata": {},
     "output_type": "execute_result"
    }
   ],
   "source": [
    "dictionary = {'a': 1, 'b': 2}\n",
    "len(dictionary)"
   ]
  },
  {
   "cell_type": "code",
   "execution_count": null,
   "id": "23477db9-a72d-4535-bafd-38ab2bc56b2d",
   "metadata": {},
   "outputs": [],
   "source": []
  }
 ],
 "metadata": {
  "kernelspec": {
   "display_name": "Python 3 (ipykernel)",
   "language": "python",
   "name": "python3"
  },
  "language_info": {
   "codemirror_mode": {
    "name": "ipython",
    "version": 3
   },
   "file_extension": ".py",
   "mimetype": "text/x-python",
   "name": "python",
   "nbconvert_exporter": "python",
   "pygments_lexer": "ipython3",
   "version": "3.9.13"
  }
 },
 "nbformat": 4,
 "nbformat_minor": 5
}
